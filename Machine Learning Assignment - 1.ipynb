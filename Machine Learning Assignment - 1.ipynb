{
 "cells": [
  {
   "cell_type": "markdown",
   "id": "cecc4c7a-06b7-49fb-911d-834e1b6ee9d0",
   "metadata": {},
   "source": [
    "### Q1. Explain the following with an example:\n",
    "\n",
    "1) Artificial Intelligence\n",
    "2) Machine Learning\n",
    "3) Deep Learning"
   ]
  },
  {
   "cell_type": "markdown",
   "id": "3a36450a-060e-4355-b6ff-58c04a6a651e",
   "metadata": {},
   "source": [
    "Artificial Intelligence (AI): AI is the concept of machines performing tasks that require human-like intelligence. Example: Virtual assistants like Siri, which understand and respond to voice commands.\n",
    "\n",
    "Machine Learning (ML): ML involves machines learning from data patterns to make predictions or decisions. Example: Spam filters that learn to classify emails as spam or not based on previous data.\n",
    "\n",
    "Deep Learning: A subset of ML, deep learning uses complex neural networks to learn patterns from data. Example: Deep neural networks trained to recognize objects in images, like identifying cats in photos."
   ]
  },
  {
   "cell_type": "markdown",
   "id": "15a165f3-3de3-4b33-a39b-58998efa9079",
   "metadata": {},
   "source": [
    "### Q2- What is supervised learning? List some examples of supervised learning?"
   ]
  },
  {
   "cell_type": "markdown",
   "id": "e3e9dcca-07cc-4f8e-bee6-6738678fb02d",
   "metadata": {},
   "source": [
    "Supervised learning is a type of machine learning where the algorithm learns from labeled training data to make predictions or decisions.\n",
    "\n",
    "Examples of supervised learning:\n",
    "\n",
    "1. Image Classification\n",
    "2. Spam Detection\n",
    "3. Medical Diagnosis"
   ]
  },
  {
   "cell_type": "markdown",
   "id": "7c0dfbe1-6278-418a-8fa6-7c766d934d7e",
   "metadata": {},
   "source": [
    "### Q3. What is unsupervised learning? List some examples of unsupervised learning."
   ]
  },
  {
   "cell_type": "markdown",
   "id": "06a80f97-762c-43ae-8e2a-6a725bba9edf",
   "metadata": {},
   "source": [
    "Unsupervised learning is a type of machine learning where the algorithm learns patterns and relationships from unlabeled data.\n",
    "\n",
    "\n",
    "Examples:\n",
    "\n",
    "1. Clustering\n",
    "2. Dimensionality Reduction\n",
    "3. Anomaly Detection"
   ]
  },
  {
   "cell_type": "markdown",
   "id": "4e5a0037-f5be-4dbc-920d-498a4a5cb9d9",
   "metadata": {},
   "source": [
    "### Q4. What is the difference between AI, ML, DL, and DS?"
   ]
  },
  {
   "cell_type": "markdown",
   "id": "96a49702-3b97-4b25-9d1e-2cf234924dce",
   "metadata": {},
   "source": [
    "AI is the overarching concept of creating intelligent machines, ML is a subset of AI focusing on learning from data, DL is a subset of ML using deep neural networks, and DS involves extracting insights from data through various methods."
   ]
  },
  {
   "cell_type": "markdown",
   "id": "aa8a6486-462e-46fb-93b2-60d443b9f3dc",
   "metadata": {},
   "source": [
    "### Q5. What are the main differences between supervised, unsupervised, and semi-supervised learning?"
   ]
  },
  {
   "cell_type": "markdown",
   "id": "b8af1483-5f80-482c-a48d-d52011a95636",
   "metadata": {},
   "source": [
    "Data Availability: Supervised learning requires labeled data for training, while unsupervised learning uses unlabeled data, and semi-supervised learning uses a combination of both.\n",
    "\n",
    "Use Cases: Supervised learning is used for tasks like classification and regression, unsupervised learning for clustering and dimensionality reduction, and semi-supervised learning is useful when obtaining labeled data is challenging.\n",
    "\n",
    "Evaluation: Supervised learning is often evaluated based on prediction accuracy, unsupervised learning on the quality of discovered patterns, and semi-supervised learning on improvements gained from utilizing unlabeled data."
   ]
  },
  {
   "cell_type": "markdown",
   "id": "3b3dfd07-e216-4106-ab74-14a2eadded92",
   "metadata": {},
   "source": [
    "### Q6. What is train, test, and validation split? Explain the importance of each term"
   ]
  },
  {
   "cell_type": "markdown",
   "id": "02da4d20-9667-4c7a-9c5d-e33d977cf9a7",
   "metadata": {},
   "source": [
    "Training Set:\n",
    "The training set is the portion of the dataset used to train or teach the machine learning model. It's the data on which the model learns the underlying patterns, relationships, and features of the problem you're trying to solve. This is where the model adjusts its parameters to minimize the difference between its predictions and the actual outcomes in the training data.\n",
    "\n",
    "Test Set:\n",
    "The test set is a separate portion of the dataset that the model has never seen before. It's used to evaluate how well the model generalizes to new, unseen data. By making predictions on the test set, you can assess the model's performance and measure its accuracy, precision, recall, and other metrics relevant to the specific problem.\n",
    "\n",
    "Validation Set:\n",
    "The validation set is a subset of the training data that's used during training to tune hyperparameters and prevent overfitting. Hyperparameters are settings that are set before training, and they influence the model's learning process. By evaluating the model's performance on the validation set, you can adjust hyperparameters and choose the best configuration for your model."
   ]
  },
  {
   "cell_type": "markdown",
   "id": "4b763268-ea9f-41d3-8a0f-fa61997c9ba6",
   "metadata": {},
   "source": [
    "### Q7- How can unsupervised learning be used in anomaly detection?"
   ]
  },
  {
   "cell_type": "markdown",
   "id": "74a2627a-c24f-465f-b625-b960a613ffb3",
   "metadata": {},
   "source": [
    "Anomaly detection involves identifying patterns or data points that significantly deviate from the norm, indicating unusual behavior or events."
   ]
  },
  {
   "cell_type": "markdown",
   "id": "34d8eab1-0f73-4666-9a5f-c46fee60b99a",
   "metadata": {},
   "source": [
    "### Q8- List down some commonly used supervised learning algorithms and unsupervised learning algorithms"
   ]
  },
  {
   "cell_type": "markdown",
   "id": "c362408d-7b9d-4f53-bde2-a6a667d9b2a5",
   "metadata": {},
   "source": [
    "**Supervised Learning Algorithms**:\n",
    "\n",
    "1. **Linear Regression**: A regression algorithm used for predicting a continuous target variable based on one or more input features.\n",
    "\n",
    "2. **Logistic Regression**: Used for binary classification problems, where the output is a probability of belonging to a certain class.\n",
    "\n",
    "3. **Decision Trees**: These split data into subsets based on features to make decisions or predictions.\n",
    "\n",
    "4. **Random Forest**: An ensemble technique that combines multiple decision trees to improve prediction accuracy.\n",
    "\n",
    "5. **Support Vector Machines (SVM)**: Used for classification and regression tasks by finding a hyperplane that best separates data points of different classes.\n",
    "\n",
    "6. **Naive Bayes**: A probabilistic algorithm based on Bayes' theorem, often used for text classification and spam detection.\n",
    "\n",
    "**Unsupervised Learning Algorithms**:\n",
    "\n",
    "1. **K-Means Clustering**: Divides data into 'k' clusters based on feature similarity.\n",
    "\n",
    "2. **Hierarchical Clustering**: Forms a tree of clusters by recursively merging or splitting them based on similarity.\n",
    "\n",
    "3. **DBSCAN (Density-Based Spatial Clustering of Applications with Noise)**: Groups data points based on density and identifies outliers.\n",
    "\n",
    "4. **PCA (Principal Component Analysis)**: Reduces data dimensions while retaining most of the original variability.\n",
    "\n",
    "5. **ICA (Independent Component Analysis)**: Used for separating a multivariate signal into additive subcomponents."
   ]
  }
 ],
 "metadata": {
  "kernelspec": {
   "display_name": "Python 3 (ipykernel)",
   "language": "python",
   "name": "python3"
  },
  "language_info": {
   "codemirror_mode": {
    "name": "ipython",
    "version": 3
   },
   "file_extension": ".py",
   "mimetype": "text/x-python",
   "name": "python",
   "nbconvert_exporter": "python",
   "pygments_lexer": "ipython3",
   "version": "3.10.8"
  }
 },
 "nbformat": 4,
 "nbformat_minor": 5
}
